{
  "nbformat": 4,
  "nbformat_minor": 0,
  "metadata": {
    "colab": {
      "provenance": [],
      "authorship_tag": "ABX9TyPuLbgf+NENC9QQRx2NRQdD",
      "include_colab_link": true
    },
    "kernelspec": {
      "name": "python3",
      "display_name": "Python 3"
    },
    "language_info": {
      "name": "python"
    }
  },
  "cells": [
    {
      "cell_type": "markdown",
      "metadata": {
        "id": "view-in-github",
        "colab_type": "text"
      },
      "source": [
        "<a href=\"https://colab.research.google.com/github/olodenm/info_2022_olo/blob/Netology_HW/%D0%A1%D0%BB%D1%83%D1%87%D0%B0%D0%B9%D0%BD%D1%8B%D0%B5_%D1%81%D0%BE%D0%B1%D1%8B%D1%82%D0%B8%D1%8F_%D0%A1%D0%BB%D1%83%D1%87%D0%B0%D0%B9%D0%BD%D1%8B%D0%B5_%D0%B2%D0%B5%D0%BB%D0%B8%D1%87%D0%B8%D0%BD%D1%8B.ipynb\" target=\"_parent\"><img src=\"https://colab.research.google.com/assets/colab-badge.svg\" alt=\"Open In Colab\"/></a>"
      ]
    },
    {
      "cell_type": "code",
      "source": [
        "import random\n",
        "from random import randint"
      ],
      "metadata": {
        "id": "-HmXUkwjWXfg"
      },
      "execution_count": null,
      "outputs": []
    },
    {
      "cell_type": "code",
      "source": [
        "def profit_game():\n",
        "    \"\"\"Функция моделирует игру, в которой игрок платит\n",
        "       1 (y.e) и имеет возможность выиграть определенные\n",
        "       суммы в зависимости от выпавшего числа.\n",
        "\n",
        "       Returns:\n",
        "                winnings (int): Выигрыш игрока в рублях после игры.\n",
        "                Возможные значения: 0, 1, 2, 3, 5, 10, 15, 50, 100, 200.\n",
        "    \"\"\"\n",
        "    # Выпадение случайного числа\n",
        "    number = random.randint(0, 999)\n",
        "\n",
        "    # Проверка выигрыша\n",
        "    if number == 777:\n",
        "        winnings = 200\n",
        "    elif number == 999:\n",
        "        winnings = 100\n",
        "    elif number == 555:\n",
        "        winnings = 50\n",
        "    elif number == 333:\n",
        "        winnings = 15\n",
        "    elif number == 111:\n",
        "        winnings = 10\n",
        "    elif number % 100 == 77:\n",
        "        winnings = 5\n",
        "    elif number % 10 == 7:\n",
        "        winnings = 3\n",
        "    elif number % 100 == 0:\n",
        "        winnings = 2\n",
        "    elif number % 10 == 0:\n",
        "        winnings = 1\n",
        "    else:\n",
        "        winnings = 0\n",
        "\n",
        "    # Возврат результата\n",
        "    return winnings\n",
        "\n",
        "# Количество игр для моделирования\n",
        "trials = 10000000\n",
        "\n",
        "# Результаты моделирования\n",
        "results = []\n",
        "\n",
        "for i in range(trials):\n",
        "    winnings = profit_game()\n",
        "    results.append(winnings)\n",
        "\n",
        "# Ожидаемое значение игры\n",
        "expected_value = sum(results) / trials\n",
        "\n",
        "print(\"Ожидаемое значение игры:\", expected_value) # Окупаемость > 1 рубля\n",
        "\n",
        "# Средний выигрыш или проигрыш\n",
        "average_winnings_or_loss = expected_value - 1 # Вычетаем начальную ставку 1 рубль\n",
        "\n",
        "print(\"Средний выигрыш или проигрыш:\", average_winnings_or_loss) # Сколько игрок в среднем теряет или получает за игру\n",
        "\n",
        "# Выгодна ли игра игроку?\n",
        "# не выгодна"
      ],
      "metadata": {
        "colab": {
          "base_uri": "https://localhost:8080/"
        },
        "id": "qf6o8RacjTD0",
        "outputId": "4bcca90f-81e7-4b0d-a150-010f5b8e998e"
      },
      "execution_count": null,
      "outputs": [
        {
          "output_type": "stream",
          "name": "stdout",
          "text": [
            "Ожидаемое значение игры: 0.8027804\n",
            "Средний выигрыш или проигрыш: -0.19721960000000005\n"
          ]
        }
      ]
    },
    {
      "cell_type": "code",
      "source": [
        "# Вероятности выигрышей и их значения:\n",
        "# 777: 1/1000 * 200 = 0.2\n",
        "# 999: 1/1000 * 100 = 0.1\n",
        "# 555: 1/1000 * 50 = 0.05\n",
        "# 333: 1/1000 * 15 = 0.015\n",
        "# 111: 1/1000 * 10 = 0.01\n",
        "# *77: 10/1000 * 5 = 0.05\n",
        "# **7: 90/1000 * 3 = 0.27\n",
        "# *00: 10/1000 * 2 = 0.02\n",
        "# **0: 90/1000 * 1 = 0.09\n",
        "\n",
        "# Суммируем вероятности:\n",
        "EX = (0.2 + 0.1 + 0.05 + 0.015 + 0.01 + 0.05 + 0.27 + 0.02 + 0.09) # 0.805\n",
        "\n",
        "# Теоретический средний выигрыш:\n",
        "print(\"Средний выигрыш (Теоретический):\", EX)\n",
        "\n",
        "# Сравнив с результатами моделирования (0.8024534),\n",
        "# видно, что теоретический и моделированный средний выигрыш очень близки.\n",
        "# В целом, теоретический расчёт сходится с результатами моделирования,\n",
        "# и игра остаётся невыгодной для игрока"
      ],
      "metadata": {
        "colab": {
          "base_uri": "https://localhost:8080/"
        },
        "id": "cUY4iTqTzBxN",
        "outputId": "ee986a3e-64db-45ca-9a53-f8ee114a8005"
      },
      "execution_count": null,
      "outputs": [
        {
          "output_type": "stream",
          "name": "stdout",
          "text": [
            "Средний выигрыш (Теоретический): 0.805\n"
          ]
        }
      ]
    }
  ]
}